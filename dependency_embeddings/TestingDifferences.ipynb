{
 "cells": [
  {
   "cell_type": "code",
   "execution_count": 1,
   "metadata": {},
   "outputs": [],
   "source": [
    "from gen_embeddings import *"
   ]
  },
  {
   "cell_type": "code",
   "execution_count": 2,
   "metadata": {},
   "outputs": [],
   "source": [
    "files = files = sorted([os.path.abspath(os.path.join(dirp, f)) for dirp, _, fn in\n",
    "             os.walk('/Users/garrettsmith/Google Drive/UniPotsdam/Research/Features/dependency_embeddings/data/ParsedBrownCorpus/') for f in fn if f.endswith('.txt')])"
   ]
  },
  {
   "cell_type": "code",
   "execution_count": 3,
   "metadata": {},
   "outputs": [],
   "source": [
    "deps = read_standford(files)"
   ]
  },
  {
   "cell_type": "code",
   "execution_count": 4,
   "metadata": {},
   "outputs": [],
   "source": [
    "pmi_dict = make_pmi_dict(deps, positive=True)"
   ]
  },
  {
   "cell_type": "code",
   "execution_count": 5,
   "metadata": {},
   "outputs": [],
   "source": [
    "sdf = to_sparse_df(pmi_dict)"
   ]
  },
  {
   "cell_type": "markdown",
   "metadata": {},
   "source": [
    "## Test case\n",
    "- *The canoe by the cabin was damaged* $\\rightarrow$ nsubj(damaged, canoe), nsubj(damaged, cabin)\n",
    "- *The canoe by the kayak was damaged* $\\rightarrow$ nsubj(damaged, canoe), nsubj(damaged, kayak)"
   ]
  },
  {
   "cell_type": "code",
   "execution_count": 9,
   "metadata": {},
   "outputs": [
    {
     "name": "stdout",
     "output_type": "stream",
     "text": [
      "Calculating lexically specific dependent features...\n",
      "Working on pair damaged-nsubj.\n",
      "Done.\n"
     ]
    }
   ],
   "source": [
    "pairs = [('damaged', 'nsubj')]\n",
    "nouns = ['canoe', 'cabin', 'boat']\n",
    "damaged = lex_spec_feats(pairs, deps, sdf)"
   ]
  },
  {
   "cell_type": "code",
   "execution_count": 12,
   "metadata": {},
   "outputs": [
    {
     "data": {
      "text/html": [
       "<div>\n",
       "<style scoped>\n",
       "    .dataframe tbody tr th:only-of-type {\n",
       "        vertical-align: middle;\n",
       "    }\n",
       "\n",
       "    .dataframe tbody tr th {\n",
       "        vertical-align: top;\n",
       "    }\n",
       "\n",
       "    .dataframe thead th {\n",
       "        text-align: right;\n",
       "    }\n",
       "</style>\n",
       "<table border=\"1\" class=\"dataframe\">\n",
       "  <thead>\n",
       "    <tr style=\"text-align: right;\">\n",
       "      <th></th>\n",
       "      <th>damaged-nsubj</th>\n",
       "    </tr>\n",
       "  </thead>\n",
       "  <tbody>\n",
       "    <tr>\n",
       "      <th>canoe</th>\n",
       "      <td>0.418307</td>\n",
       "    </tr>\n",
       "    <tr>\n",
       "      <th>cabin</th>\n",
       "      <td>0.419959</td>\n",
       "    </tr>\n",
       "    <tr>\n",
       "      <th>boat</th>\n",
       "      <td>0.509556</td>\n",
       "    </tr>\n",
       "  </tbody>\n",
       "</table>\n",
       "</div>"
      ],
      "text/plain": [
       "       damaged-nsubj\n",
       "canoe       0.418307\n",
       "cabin       0.419959\n",
       "boat        0.509556"
      ]
     },
     "execution_count": 12,
     "metadata": {},
     "output_type": "execute_result"
    }
   ],
   "source": [
    "sims = calc_similarity(nouns, ['damaged-nsubj'], sdf, damaged)\n",
    "sims"
   ]
  },
  {
   "cell_type": "code",
   "execution_count": 16,
   "metadata": {},
   "outputs": [
    {
     "name": "stdout",
     "output_type": "stream",
     "text": [
      "cos(damaged, canoe) - cos(damaged, cabin) = damaged-nsubj   -0.001651\n",
      "dtype: float64\n",
      "cos(damaged, canoe) - cos(damaged, boat) = damaged-nsubj   -0.091249\n",
      "dtype: float64\n",
      "\"Boat\" cost relative to \"cabin\"\n"
     ]
    }
   ],
   "source": [
    "cancab = sims.loc['canoe'] - sims.loc['cabin']\n",
    "canboat = sims.loc['canoe'] - sims.loc['boat']\n",
    "print('cos(damaged, canoe) - cos(damaged, cabin) = {}'.format(cancab))\n",
    "print('cos(damaged, canoe) - cos(damaged, boat) = {}'.format(canboat))\n",
    "print('\"Boat\" cost relative to \"cabin\"'.format(cancab - canboat))"
   ]
  },
  {
   "cell_type": "markdown",
   "metadata": {},
   "source": [
    "## Trying out Cunnings & Sturt's (2018) materals\n",
    "\n",
    "- obj(shattered, letter) - obj(shattered, cup)\n",
    "- obj(shattered, letter) - obj(shattered, tie)"
   ]
  },
  {
   "cell_type": "code",
   "execution_count": 23,
   "metadata": {},
   "outputs": [
    {
     "name": "stdout",
     "output_type": "stream",
     "text": [
      "Calculating lexically specific dependent features...\n",
      "Working on pair shatter-obj.\n",
      "Done.\n"
     ]
    }
   ],
   "source": [
    "pairs = [('shatter', 'obj')]\n",
    "nouns = ['letter', 'cup', 'tie']\n",
    "shattered = lex_spec_feats(pairs, deps, sdf)"
   ]
  },
  {
   "cell_type": "code",
   "execution_count": 25,
   "metadata": {},
   "outputs": [
    {
     "ename": "AssertionError",
     "evalue": "Not all words in word dataframe.",
     "output_type": "error",
     "traceback": [
      "\u001b[0;31m---------------------------------------------------------------------------\u001b[0m",
      "\u001b[0;31mAssertionError\u001b[0m                            Traceback (most recent call last)",
      "\u001b[0;32m<ipython-input-25-219126955bad>\u001b[0m in \u001b[0;36m<module>\u001b[0;34m\u001b[0m\n\u001b[0;32m----> 1\u001b[0;31m \u001b[0msims\u001b[0m \u001b[0;34m=\u001b[0m \u001b[0mcalc_similarity\u001b[0m\u001b[0;34m(\u001b[0m\u001b[0mnouns\u001b[0m\u001b[0;34m,\u001b[0m \u001b[0;34m[\u001b[0m\u001b[0;34m'shatter-obj'\u001b[0m\u001b[0;34m]\u001b[0m\u001b[0;34m,\u001b[0m \u001b[0msdf\u001b[0m\u001b[0;34m,\u001b[0m \u001b[0mdamaged\u001b[0m\u001b[0;34m)\u001b[0m\u001b[0;34m\u001b[0m\u001b[0;34m\u001b[0m\u001b[0m\n\u001b[0m\u001b[1;32m      2\u001b[0m \u001b[0msims\u001b[0m\u001b[0;34m\u001b[0m\u001b[0;34m\u001b[0m\u001b[0m\n",
      "\u001b[0;32m~/Google Drive/UniPotsdam/Research/Features/dependency_embeddings/dependency_embeddings/gen_embeddings.py\u001b[0m in \u001b[0;36mcalc_similarity\u001b[0;34m(words, attch, wdf, adf)\u001b[0m\n\u001b[1;32m    149\u001b[0m             \u001b[0;34m'Not all words in word dataframe.'\u001b[0m\u001b[0;34m\u001b[0m\u001b[0;34m\u001b[0m\u001b[0m\n\u001b[1;32m    150\u001b[0m     \u001b[0;32massert\u001b[0m \u001b[0mall\u001b[0m\u001b[0;34m(\u001b[0m\u001b[0;34m[\u001b[0m\u001b[0madf\u001b[0m\u001b[0;34m.\u001b[0m\u001b[0mindex\u001b[0m\u001b[0;34m.\u001b[0m\u001b[0mcontains\u001b[0m\u001b[0;34m(\u001b[0m\u001b[0ma\u001b[0m\u001b[0;34m)\u001b[0m \u001b[0;32mfor\u001b[0m \u001b[0ma\u001b[0m \u001b[0;32min\u001b[0m \u001b[0mattch\u001b[0m\u001b[0;34m]\u001b[0m\u001b[0;34m)\u001b[0m\u001b[0;34m,\u001b[0m\u001b[0;31m \u001b[0m\u001b[0;31m\\\u001b[0m\u001b[0;34m\u001b[0m\u001b[0;34m\u001b[0m\u001b[0m\n\u001b[0;32m--> 151\u001b[0;31m             \u001b[0;34m'Not all words in word dataframe.'\u001b[0m\u001b[0;34m\u001b[0m\u001b[0;34m\u001b[0m\u001b[0m\n\u001b[0m\u001b[1;32m    152\u001b[0m     \u001b[0mwvecs\u001b[0m \u001b[0;34m=\u001b[0m \u001b[0mwdf\u001b[0m\u001b[0;34m.\u001b[0m\u001b[0mloc\u001b[0m\u001b[0;34m[\u001b[0m\u001b[0mwords\u001b[0m\u001b[0;34m]\u001b[0m\u001b[0;34m\u001b[0m\u001b[0;34m\u001b[0m\u001b[0m\n\u001b[1;32m    153\u001b[0m     \u001b[0mavecs\u001b[0m \u001b[0;34m=\u001b[0m \u001b[0madf\u001b[0m\u001b[0;34m.\u001b[0m\u001b[0mloc\u001b[0m\u001b[0;34m[\u001b[0m\u001b[0mattch\u001b[0m\u001b[0;34m]\u001b[0m\u001b[0;34m\u001b[0m\u001b[0;34m\u001b[0m\u001b[0m\n",
      "\u001b[0;31mAssertionError\u001b[0m: Not all words in word dataframe."
     ]
    }
   ],
   "source": [
    "sims = calc_similarity(nouns, ['shatter-obj'], sdf, damaged)\n",
    "sims"
   ]
  },
  {
   "cell_type": "code",
   "execution_count": 26,
   "metadata": {},
   "outputs": [],
   "source": [
    "import pandas as pd"
   ]
  },
  {
   "cell_type": "code",
   "execution_count": 48,
   "metadata": {},
   "outputs": [],
   "source": [
    "cs = pd.read_csv('/Users/garrettsmith/Google Drive/UniPotsdam/Research/Features/CunningsSturtMaterials.csv',\n",
    "                skipinitialspace=True)"
   ]
  },
  {
   "cell_type": "code",
   "execution_count": 49,
   "metadata": {},
   "outputs": [
    {
     "data": {
      "text/html": [
       "<div>\n",
       "<style scoped>\n",
       "    .dataframe tbody tr th:only-of-type {\n",
       "        vertical-align: middle;\n",
       "    }\n",
       "\n",
       "    .dataframe tbody tr th {\n",
       "        vertical-align: top;\n",
       "    }\n",
       "\n",
       "    .dataframe thead th {\n",
       "        text-align: right;\n",
       "    }\n",
       "</style>\n",
       "<table border=\"1\" class=\"dataframe\">\n",
       "  <thead>\n",
       "    <tr style=\"text-align: right;\">\n",
       "      <th></th>\n",
       "      <th>item</th>\n",
       "      <th>tplaus</th>\n",
       "      <th>dplaus</th>\n",
       "      <th>verb</th>\n",
       "      <th>target</th>\n",
       "      <th>distractor</th>\n",
       "    </tr>\n",
       "  </thead>\n",
       "  <tbody>\n",
       "    <tr>\n",
       "      <th>0</th>\n",
       "      <td>1</td>\n",
       "      <td>plaus</td>\n",
       "      <td>plaus</td>\n",
       "      <td>shattered</td>\n",
       "      <td>plate</td>\n",
       "      <td>cup</td>\n",
       "    </tr>\n",
       "    <tr>\n",
       "      <th>1</th>\n",
       "      <td>1</td>\n",
       "      <td>plaus</td>\n",
       "      <td>implaus</td>\n",
       "      <td>shattered</td>\n",
       "      <td>plate</td>\n",
       "      <td>tie</td>\n",
       "    </tr>\n",
       "    <tr>\n",
       "      <th>2</th>\n",
       "      <td>1</td>\n",
       "      <td>implaus</td>\n",
       "      <td>plaus</td>\n",
       "      <td>shattered</td>\n",
       "      <td>letter</td>\n",
       "      <td>cup</td>\n",
       "    </tr>\n",
       "    <tr>\n",
       "      <th>3</th>\n",
       "      <td>1</td>\n",
       "      <td>implaus</td>\n",
       "      <td>implaus</td>\n",
       "      <td>shattered</td>\n",
       "      <td>letter</td>\n",
       "      <td>tie</td>\n",
       "    </tr>\n",
       "    <tr>\n",
       "      <th>4</th>\n",
       "      <td>2</td>\n",
       "      <td>plaus</td>\n",
       "      <td>plaus</td>\n",
       "      <td>moved</td>\n",
       "      <td>tent</td>\n",
       "      <td>chair</td>\n",
       "    </tr>\n",
       "  </tbody>\n",
       "</table>\n",
       "</div>"
      ],
      "text/plain": [
       "   item   tplaus   dplaus       verb  target distractor\n",
       "0     1    plaus    plaus  shattered   plate        cup\n",
       "1     1    plaus  implaus  shattered   plate        tie\n",
       "2     1  implaus    plaus  shattered  letter        cup\n",
       "3     1  implaus  implaus  shattered  letter        tie\n",
       "4     2    plaus    plaus      moved    tent      chair"
      ]
     },
     "execution_count": 49,
     "metadata": {},
     "output_type": "execute_result"
    }
   ],
   "source": [
    "cs.head()"
   ]
  },
  {
   "cell_type": "code",
   "execution_count": 50,
   "metadata": {},
   "outputs": [
    {
     "data": {
      "text/html": [
       "<div>\n",
       "<style scoped>\n",
       "    .dataframe tbody tr th:only-of-type {\n",
       "        vertical-align: middle;\n",
       "    }\n",
       "\n",
       "    .dataframe tbody tr th {\n",
       "        vertical-align: top;\n",
       "    }\n",
       "\n",
       "    .dataframe thead th {\n",
       "        text-align: right;\n",
       "    }\n",
       "</style>\n",
       "<table border=\"1\" class=\"dataframe\">\n",
       "  <thead>\n",
       "    <tr style=\"text-align: right;\">\n",
       "      <th></th>\n",
       "      <th>item</th>\n",
       "      <th>tplaus</th>\n",
       "      <th>dplaus</th>\n",
       "      <th>verb</th>\n",
       "      <th>target</th>\n",
       "      <th>distractor</th>\n",
       "    </tr>\n",
       "  </thead>\n",
       "  <tbody>\n",
       "    <tr>\n",
       "      <th>2</th>\n",
       "      <td>1</td>\n",
       "      <td>implaus</td>\n",
       "      <td>plaus</td>\n",
       "      <td>shattered</td>\n",
       "      <td>letter</td>\n",
       "      <td>cup</td>\n",
       "    </tr>\n",
       "    <tr>\n",
       "      <th>3</th>\n",
       "      <td>1</td>\n",
       "      <td>implaus</td>\n",
       "      <td>implaus</td>\n",
       "      <td>shattered</td>\n",
       "      <td>letter</td>\n",
       "      <td>tie</td>\n",
       "    </tr>\n",
       "    <tr>\n",
       "      <th>6</th>\n",
       "      <td>2</td>\n",
       "      <td>implaus</td>\n",
       "      <td>plaus</td>\n",
       "      <td>moved</td>\n",
       "      <td>tree</td>\n",
       "      <td>chair</td>\n",
       "    </tr>\n",
       "    <tr>\n",
       "      <th>7</th>\n",
       "      <td>2</td>\n",
       "      <td>implaus</td>\n",
       "      <td>implaus</td>\n",
       "      <td>moved</td>\n",
       "      <td>tree</td>\n",
       "      <td>river</td>\n",
       "    </tr>\n",
       "    <tr>\n",
       "      <th>10</th>\n",
       "      <td>3</td>\n",
       "      <td>implaus</td>\n",
       "      <td>plaus</td>\n",
       "      <td>planted</td>\n",
       "      <td>tent</td>\n",
       "      <td>flowers</td>\n",
       "    </tr>\n",
       "  </tbody>\n",
       "</table>\n",
       "</div>"
      ],
      "text/plain": [
       "    item   tplaus   dplaus       verb  target distractor\n",
       "2      1  implaus    plaus  shattered  letter        cup\n",
       "3      1  implaus  implaus  shattered  letter        tie\n",
       "6      2  implaus    plaus      moved    tree      chair\n",
       "7      2  implaus  implaus      moved    tree      river\n",
       "10     3  implaus    plaus    planted    tent    flowers"
      ]
     },
     "execution_count": 50,
     "metadata": {},
     "output_type": "execute_result"
    }
   ],
   "source": [
    "implaus = cs.loc[cs.tplaus == 'implaus']\n",
    "implaus.head()"
   ]
  },
  {
   "cell_type": "code",
   "execution_count": 51,
   "metadata": {},
   "outputs": [],
   "source": [
    "for v in set(implaus.verb):\n",
    "    try:\n",
    "        sdf.loc[v]\n",
    "    except:\n",
    "        print(v)"
   ]
  },
  {
   "cell_type": "code",
   "execution_count": 52,
   "metadata": {},
   "outputs": [
    {
     "name": "stdout",
     "output_type": "stream",
     "text": [
      "laptop\n",
      "teapot\n",
      "cutlery\n"
     ]
    }
   ],
   "source": [
    "for t in set(implaus.target):\n",
    "    try:\n",
    "        sdf.loc[t]\n",
    "    except:\n",
    "        print(t)"
   ]
  },
  {
   "cell_type": "code",
   "execution_count": 53,
   "metadata": {},
   "outputs": [
    {
     "name": "stdout",
     "output_type": "stream",
     "text": [
      "bike\n"
     ]
    }
   ],
   "source": [
    "for d in set(implaus.distractor):\n",
    "    try:\n",
    "        sdf.loc[d]\n",
    "    except:\n",
    "        print(d)"
   ]
  },
  {
   "cell_type": "code",
   "execution_count": 66,
   "metadata": {},
   "outputs": [
    {
     "data": {
      "text/html": [
       "<div>\n",
       "<style scoped>\n",
       "    .dataframe tbody tr th:only-of-type {\n",
       "        vertical-align: middle;\n",
       "    }\n",
       "\n",
       "    .dataframe tbody tr th {\n",
       "        vertical-align: top;\n",
       "    }\n",
       "\n",
       "    .dataframe thead th {\n",
       "        text-align: right;\n",
       "    }\n",
       "</style>\n",
       "<table border=\"1\" class=\"dataframe\">\n",
       "  <thead>\n",
       "    <tr style=\"text-align: right;\">\n",
       "      <th></th>\n",
       "      <th>item</th>\n",
       "      <th>tplaus</th>\n",
       "      <th>dplaus</th>\n",
       "      <th>verb</th>\n",
       "      <th>target</th>\n",
       "      <th>distractor</th>\n",
       "    </tr>\n",
       "  </thead>\n",
       "  <tbody>\n",
       "    <tr>\n",
       "      <th>14</th>\n",
       "      <td>4</td>\n",
       "      <td>implaus</td>\n",
       "      <td>plaus</td>\n",
       "      <td>cooked</td>\n",
       "      <td>cutlery</td>\n",
       "      <td>food</td>\n",
       "    </tr>\n",
       "    <tr>\n",
       "      <th>15</th>\n",
       "      <td>4</td>\n",
       "      <td>implaus</td>\n",
       "      <td>implaus</td>\n",
       "      <td>cooked</td>\n",
       "      <td>cutlery</td>\n",
       "      <td>sink</td>\n",
       "    </tr>\n",
       "    <tr>\n",
       "      <th>38</th>\n",
       "      <td>10</td>\n",
       "      <td>implaus</td>\n",
       "      <td>plaus</td>\n",
       "      <td>wrote</td>\n",
       "      <td>laptop</td>\n",
       "      <td>report</td>\n",
       "    </tr>\n",
       "    <tr>\n",
       "      <th>39</th>\n",
       "      <td>10</td>\n",
       "      <td>implaus</td>\n",
       "      <td>implaus</td>\n",
       "      <td>wrote</td>\n",
       "      <td>laptop</td>\n",
       "      <td>office</td>\n",
       "    </tr>\n",
       "    <tr>\n",
       "      <th>82</th>\n",
       "      <td>21</td>\n",
       "      <td>implaus</td>\n",
       "      <td>plaus</td>\n",
       "      <td>rode</td>\n",
       "      <td>cardboard</td>\n",
       "      <td>bike</td>\n",
       "    </tr>\n",
       "    <tr>\n",
       "      <th>114</th>\n",
       "      <td>29</td>\n",
       "      <td>implaus</td>\n",
       "      <td>plaus</td>\n",
       "      <td>toasted</td>\n",
       "      <td>teapot</td>\n",
       "      <td>bread</td>\n",
       "    </tr>\n",
       "    <tr>\n",
       "      <th>115</th>\n",
       "      <td>29</td>\n",
       "      <td>implaus</td>\n",
       "      <td>implaus</td>\n",
       "      <td>toasted</td>\n",
       "      <td>teapot</td>\n",
       "      <td>plate</td>\n",
       "    </tr>\n",
       "  </tbody>\n",
       "</table>\n",
       "</div>"
      ],
      "text/plain": [
       "     item   tplaus   dplaus     verb     target distractor\n",
       "14      4  implaus    plaus   cooked    cutlery       food\n",
       "15      4  implaus  implaus   cooked    cutlery       sink\n",
       "38     10  implaus    plaus    wrote     laptop     report\n",
       "39     10  implaus  implaus    wrote     laptop     office\n",
       "82     21  implaus    plaus     rode  cardboard       bike\n",
       "114    29  implaus    plaus  toasted     teapot      bread\n",
       "115    29  implaus  implaus  toasted     teapot      plate"
      ]
     },
     "execution_count": 66,
     "metadata": {},
     "output_type": "execute_result"
    }
   ],
   "source": [
    "implaus.loc[implaus.target.isin(['laptop', 'teapot', 'cutlery']) | implaus.distractor.isin(['bike'])]"
   ]
  },
  {
   "cell_type": "code",
   "execution_count": null,
   "metadata": {},
   "outputs": [],
   "source": []
  }
 ],
 "metadata": {
  "kernelspec": {
   "display_name": "Python 3",
   "language": "python",
   "name": "python3"
  },
  "language_info": {
   "codemirror_mode": {
    "name": "ipython",
    "version": 3
   },
   "file_extension": ".py",
   "mimetype": "text/x-python",
   "name": "python",
   "nbconvert_exporter": "python",
   "pygments_lexer": "ipython3",
   "version": "3.7.3"
  }
 },
 "nbformat": 4,
 "nbformat_minor": 2
}
